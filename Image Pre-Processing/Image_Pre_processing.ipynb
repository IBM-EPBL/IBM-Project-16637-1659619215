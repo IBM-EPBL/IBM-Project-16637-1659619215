{
  "nbformat": 4,
  "nbformat_minor": 0,
  "metadata": {
    "colab": {
      "provenance": [],
      "collapsed_sections": []
    },
    "kernelspec": {
      "name": "python3",
      "display_name": "Python 3"
    },
    "language_info": {
      "name": "python"
    }
  },
  "cells": [
    {
      "cell_type": "markdown",
      "source": [
        "**FOR BODY DAMAGE**"
      ],
      "metadata": {
        "id": "IpH6awV35_Qj"
      }
    },
    {
      "cell_type": "markdown",
      "source": [
        "##IMAGE PRE PROCESSING"
      ],
      "metadata": {
        "id": "dTe_E_x46Lxa"
      }
    },
    {
      "cell_type": "markdown",
      "source": [
        "**1. Import The ImageDataGenerator Library**"
      ],
      "metadata": {
        "id": "neo-WMDm6fwr"
      }
    },
    {
      "cell_type": "code",
      "execution_count": 1,
      "metadata": {
        "id": "9XmPUWROPWUQ"
      },
      "outputs": [],
      "source": [
        "from tensorflow.keras.preprocessing.image import ImageDataGenerator "
      ]
    },
    {
      "cell_type": "markdown",
      "source": [
        "**2. Configure ImageDataGenerator Class**"
      ],
      "metadata": {
        "id": "uWMhrIRX6j-p"
      }
    },
    {
      "cell_type": "code",
      "source": [
        "train_datagen = ImageDataGenerator(rescale = 1./255,\n",
        "                                   shear_range = 0.1,\n",
        "                                   zoom_range = 0.1,\n",
        "                                   horizontal_flip = True)\n",
        "\n",
        "test_datagen = ImageDataGenerator(rescale = 1./255 )                                 "
      ],
      "metadata": {
        "id": "0OkE0RBRRSry"
      },
      "execution_count": 2,
      "outputs": []
    },
    {
      "cell_type": "markdown",
      "source": [
        "**3. Apply ImageDataGenerator Functionality To Trainset And Testset**"
      ],
      "metadata": {
        "id": "Dp_C0yYY6lyr"
      }
    },
    {
      "cell_type": "code",
      "source": [
        "training_set = train_datagen.flow_from_directory('/content/drive/MyDrive/IBM FILES/IBM/Dataset/body-20221114T034906Z-001/body/training',\n",
        "                                                 target_size = (224, 224),\n",
        "                                                 batch_size = 10,\n",
        "                                                 class_mode = 'categorical')\n",
        "test_set = test_datagen.flow_from_directory('/content/drive/MyDrive/IBM FILES/IBM/Dataset/body-20221114T034906Z-001/body/validation',\n",
        "                                            target_size = (224, 224),\n",
        "                                            batch_size = 10,\n",
        "                                            class_mode = 'categorical')"
      ],
      "metadata": {
        "colab": {
          "base_uri": "https://localhost:8080/"
        },
        "id": "9N7T49PVRWWg",
        "outputId": "f11df528-8193-4bd7-b693-b5d0d17f8686"
      },
      "execution_count": 3,
      "outputs": [
        {
          "output_type": "stream",
          "name": "stdout",
          "text": [
            "Found 979 images belonging to 3 classes.\n",
            "Found 171 images belonging to 3 classes.\n"
          ]
        }
      ]
    },
    {
      "cell_type": "markdown",
      "source": [],
      "metadata": {
        "id": "DPQs744MnWXJ"
      }
    }
  ]
}