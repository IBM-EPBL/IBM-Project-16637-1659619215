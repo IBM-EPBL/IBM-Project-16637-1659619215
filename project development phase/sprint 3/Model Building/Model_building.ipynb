{
  "cells": [
    {
      "cell_type": "markdown",
      "metadata": {
        "id": "o67810GsTdsn"
      },
      "source": [
        "Team ID: PNT2022TMID27220\n",
        "\n",
        "Project: Intelligent Vehicle Damage Assessment & Cost Estimator For Insurance Companies\n",
        "\n",
        "Model Building"
      ]
    },
    {
      "cell_type": "code",
      "execution_count": 2,
      "metadata": {
        "id": "bnu1hIcEbBKf"
      },
      "outputs": [],
      "source": [
        "from tensorflow.keras.preprocessing.image import ImageDataGenerator"
      ]
    },
    {
      "cell_type": "code",
      "execution_count": 3,
      "metadata": {
        "id": "HHFXyZRnbaR4"
      },
      "outputs": [],
      "source": [
        "#setting parameter for image data augmentation to the training data.\n",
        "train_datagen=ImageDataGenerator(rescale=1./255,\n",
        "                                 shear_range=0.1,\n",
        "                                 zoom_range=0.1,\n",
        "                                 horizontal_flip=True)"
      ]
    },
    {
      "cell_type": "code",
      "execution_count": null,
      "metadata": {
        "id": "Gei3Smq9TlNh"
      },
      "outputs": [],
      "source": []
    },
    {
      "cell_type": "code",
      "execution_count": 4,
      "metadata": {
        "id": "cCTDa_klbaV2"
      },
      "outputs": [],
      "source": [
        "#image data augmentation to the testing data.\n",
        "test_datagen=ImageDataGenerator(rescale=1./255)"
      ]
    },
    {
      "cell_type": "code",
      "execution_count": 5,
      "metadata": {
        "id": "c0pUylgJcm2p"
      },
      "outputs": [],
      "source": [
        "from tensorflow.keras.layers import Dense, Flatten, Input\n",
        "from tensorflow.keras.models import Model\n",
        "from tensorflow.keras.preprocessing import image\n",
        "from tensorflow.keras.preprocessing.image import ImageDataGenerator,load_img\n",
        "from tensorflow.keras.applications.vgg16 import VGG16, preprocess_input\n",
        "from glob import glob\n",
        "import numpy as np\n",
        "import matplotlib.pyplot as plt"
      ]
    },
    {
      "cell_type": "markdown",
      "metadata": {
        "id": "AC8iXQV_UFi2"
      },
      "source": [
        "**2. Loading The Model**"
      ]
    },
    {
      "cell_type": "code",
      "execution_count": 6,
      "metadata": {
        "colab": {
          "base_uri": "https://localhost:8080/"
        },
        "id": "9JM-O2UybaY9",
        "outputId": "7440149e-bfef-41c1-88fd-7eb9356564cc"
      },
      "outputs": [
        {
          "output_type": "stream",
          "name": "stdout",
          "text": [
            "Found 979 images belonging to 3 classes.\n",
            "Found 171 images belonging to 3 classes.\n"
          ]
        }
      ],
      "source": [
        "trainpath = \"/content/drive/MyDrive/IBM FILES/IBM/Dataset/body-20221114T034906Z-001/body/training\"\n",
        "testpath = \"/content/drive/MyDrive/IBM FILES/IBM/Dataset/body-20221114T034906Z-001/body/validation\"\n",
        "training_set = train_datagen.flow_from_directory(trainpath,\n",
        "                                                 target_size = (224, 224),\n",
        "                                                 batch_size = 10,\n",
        "                                                 class_mode = 'categorical')\n",
        "\n",
        "test_set = test_datagen.flow_from_directory(testpath,\n",
        "                                            target_size = (224, 224),\n",
        "                                            batch_size = 10,\n",
        "                                            class_mode ='categorical' )\n"
      ]
    },
    {
      "cell_type": "code",
      "execution_count": 7,
      "metadata": {
        "colab": {
          "base_uri": "https://localhost:8080/"
        },
        "id": "uAtlC4hVbabh",
        "outputId": "db6207d3-3572-4d58-fead-af5d909a3aaa"
      },
      "outputs": [
        {
          "output_type": "stream",
          "name": "stdout",
          "text": [
            "Drive already mounted at /content/drive; to attempt to forcibly remount, call drive.mount(\"/content/drive\", force_remount=True).\n"
          ]
        }
      ],
      "source": [
        "from google.colab import drive\n",
        "drive.mount('/content/drive')"
      ]
    },
    {
      "cell_type": "code",
      "execution_count": 8,
      "metadata": {
        "colab": {
          "base_uri": "https://localhost:8080/"
        },
        "id": "7hOl_tgRbaei",
        "outputId": "895fd646-aeb4-4772-b56a-6abcfa62d6ff"
      },
      "outputs": [
        {
          "output_type": "stream",
          "name": "stdout",
          "text": [
            "Found 979 images belonging to 3 classes.\n",
            "Found 979 images belonging to 3 classes.\n"
          ]
        }
      ],
      "source": [
        "trainpath1 = \"/content/drive/MyDrive/IBM FILES/IBM/Dataset/level-20221114T034101Z-001/level/training\";\n",
        "testpath1 = \"/content/drive/MyDrive/IBM FILES/IBM/Dataset/level-20221114T034101Z-001/level/validation\"\n",
        "training_set1 = train_datagen.flow_from_directory(trainpath1,\n",
        "                                                 target_size = (224, 224),\n",
        "                                                 batch_size = 10,\n",
        "                                                 class_mode = 'categorical')\n",
        "\n",
        "test_set1 = test_datagen.flow_from_directory(trainpath1,\n",
        "                                            target_size = (224, 224),\n",
        "                                            batch_size = 10,\n",
        "                                            class_mode ='categorical' )"
      ]
    },
    {
      "cell_type": "markdown",
      "metadata": {
        "id": "Pyf-T_0lTzxn"
      },
      "source": [
        "**1. Importing The Model Building Libraries**"
      ]
    },
    {
      "cell_type": "code",
      "execution_count": 9,
      "metadata": {
        "colab": {
          "base_uri": "https://localhost:8080/"
        },
        "id": "FXPmM-RXcnAx",
        "outputId": "4c2c8e06-3d4e-456f-bc57-43675af6d134"
      },
      "outputs": [
        {
          "output_type": "stream",
          "name": "stdout",
          "text": [
            "Downloading data from https://storage.googleapis.com/tensorflow/keras-applications/vgg16/vgg16_weights_tf_dim_ordering_tf_kernels_notop.h5\n",
            "58889256/58889256 [==============================] - 0s 0us/step\n"
          ]
        }
      ],
      "source": [
        "#adding preprocessing Layers to the front of vgg\n",
        "vgg=VGG16(weights='imagenet',include_top=False,input_tensor=Input(shape=(224,224,3)))\n",
        "vgg1=VGG16(weights='imagenet',include_top=False,input_tensor=Input(shape=(224,224,3)))"
      ]
    },
    {
      "cell_type": "markdown",
      "metadata": {
        "id": "o3Cb6IkDUQzW"
      },
      "source": [
        "**3. Adding Flatten Layer**"
      ]
    },
    {
      "cell_type": "code",
      "execution_count": 10,
      "metadata": {
        "id": "nyDWqCvzcnCh"
      },
      "outputs": [],
      "source": [
        "for layer in vgg.layers:\n",
        "    layer.trainable=False\n",
        "x=Flatten()(vgg.output)\n",
        "for layer in vgg1.layers:\n",
        "    layer.trainable=False\n",
        "y=Flatten()(vgg1.output)"
      ]
    },
    {
      "cell_type": "code",
      "execution_count": 11,
      "metadata": {
        "id": "Ew6jDLDydGj_"
      },
      "outputs": [],
      "source": [
        "folders = glob('/content/drive/MyDrive/IBM FILES/IBM/Dataset/level-20221114T034101Z-001/level/training/*')"
      ]
    },
    {
      "cell_type": "code",
      "execution_count": 12,
      "metadata": {
        "colab": {
          "base_uri": "https://localhost:8080/"
        },
        "id": "JDSdBVctdGmg",
        "outputId": "7322ddc0-ec20-4cf5-d3f8-087d7815d708"
      },
      "outputs": [
        {
          "output_type": "execute_result",
          "data": {
            "text/plain": [
              "['/content/drive/MyDrive/IBM FILES/IBM/Dataset/level-20221114T034101Z-001/level/training/03-severe',\n",
              " '/content/drive/MyDrive/IBM FILES/IBM/Dataset/level-20221114T034101Z-001/level/training/01-minor',\n",
              " '/content/drive/MyDrive/IBM FILES/IBM/Dataset/level-20221114T034101Z-001/level/training/02-moderate']"
            ]
          },
          "metadata": {},
          "execution_count": 12
        }
      ],
      "source": [
        "folders"
      ]
    },
    {
      "cell_type": "code",
      "execution_count": 13,
      "metadata": {
        "colab": {
          "base_uri": "https://localhost:8080/"
        },
        "id": "EJmQWtJkdGpn",
        "outputId": "45339a74-687b-4a20-ae56-80797a5af8f8"
      },
      "outputs": [
        {
          "output_type": "execute_result",
          "data": {
            "text/plain": [
              "3"
            ]
          },
          "metadata": {},
          "execution_count": 13
        }
      ],
      "source": [
        "len(folders)"
      ]
    },
    {
      "cell_type": "markdown",
      "metadata": {
        "id": "Cq3Dd68yUYQH"
      },
      "source": [
        "**4. Adding Output Layer**"
      ]
    },
    {
      "cell_type": "code",
      "execution_count": 14,
      "metadata": {
        "id": "ngBr-9J-dGrl"
      },
      "outputs": [],
      "source": [
        "prediction=Dense(3,activation='softmax')(x)\n",
        "prediction1=Dense(3,activation='softmax')(y)"
      ]
    },
    {
      "cell_type": "markdown",
      "metadata": {
        "id": "6rhYSISzUitJ"
      },
      "source": [
        "**5. Creating A Model Object**"
      ]
    },
    {
      "cell_type": "code",
      "execution_count": 15,
      "metadata": {
        "id": "5mCdg0MMdGth"
      },
      "outputs": [],
      "source": [
        "model=Model(inputs=vgg.input,outputs=prediction)\n",
        "model1=Model(inputs=vgg1.input,outputs=prediction1)"
      ]
    },
    {
      "cell_type": "code",
      "execution_count": 16,
      "metadata": {
        "colab": {
          "base_uri": "https://localhost:8080/"
        },
        "id": "t5vS1sYudsEG",
        "outputId": "031018d6-78fc-471e-f106-20cdfc50075a"
      },
      "outputs": [
        {
          "output_type": "stream",
          "name": "stdout",
          "text": [
            "Model: \"model\"\n",
            "_________________________________________________________________\n",
            " Layer (type)                Output Shape              Param #   \n",
            "=================================================================\n",
            " input_1 (InputLayer)        [(None, 224, 224, 3)]     0         \n",
            "                                                                 \n",
            " block1_conv1 (Conv2D)       (None, 224, 224, 64)      1792      \n",
            "                                                                 \n",
            " block1_conv2 (Conv2D)       (None, 224, 224, 64)      36928     \n",
            "                                                                 \n",
            " block1_pool (MaxPooling2D)  (None, 112, 112, 64)      0         \n",
            "                                                                 \n",
            " block2_conv1 (Conv2D)       (None, 112, 112, 128)     73856     \n",
            "                                                                 \n",
            " block2_conv2 (Conv2D)       (None, 112, 112, 128)     147584    \n",
            "                                                                 \n",
            " block2_pool (MaxPooling2D)  (None, 56, 56, 128)       0         \n",
            "                                                                 \n",
            " block3_conv1 (Conv2D)       (None, 56, 56, 256)       295168    \n",
            "                                                                 \n",
            " block3_conv2 (Conv2D)       (None, 56, 56, 256)       590080    \n",
            "                                                                 \n",
            " block3_conv3 (Conv2D)       (None, 56, 56, 256)       590080    \n",
            "                                                                 \n",
            " block3_pool (MaxPooling2D)  (None, 28, 28, 256)       0         \n",
            "                                                                 \n",
            " block4_conv1 (Conv2D)       (None, 28, 28, 512)       1180160   \n",
            "                                                                 \n",
            " block4_conv2 (Conv2D)       (None, 28, 28, 512)       2359808   \n",
            "                                                                 \n",
            " block4_conv3 (Conv2D)       (None, 28, 28, 512)       2359808   \n",
            "                                                                 \n",
            " block4_pool (MaxPooling2D)  (None, 14, 14, 512)       0         \n",
            "                                                                 \n",
            " block5_conv1 (Conv2D)       (None, 14, 14, 512)       2359808   \n",
            "                                                                 \n",
            " block5_conv2 (Conv2D)       (None, 14, 14, 512)       2359808   \n",
            "                                                                 \n",
            " block5_conv3 (Conv2D)       (None, 14, 14, 512)       2359808   \n",
            "                                                                 \n",
            " block5_pool (MaxPooling2D)  (None, 7, 7, 512)         0         \n",
            "                                                                 \n",
            " flatten (Flatten)           (None, 25088)             0         \n",
            "                                                                 \n",
            " dense (Dense)               (None, 3)                 75267     \n",
            "                                                                 \n",
            "=================================================================\n",
            "Total params: 14,789,955\n",
            "Trainable params: 75,267\n",
            "Non-trainable params: 14,714,688\n",
            "_________________________________________________________________\n"
          ]
        }
      ],
      "source": [
        "model.summary()"
      ]
    },
    {
      "cell_type": "code",
      "execution_count": 17,
      "metadata": {
        "colab": {
          "base_uri": "https://localhost:8080/"
        },
        "id": "qxulGHdldsIa",
        "outputId": "2d007485-8937-44f5-8704-abab9e5f97fa"
      },
      "outputs": [
        {
          "output_type": "stream",
          "name": "stdout",
          "text": [
            "Model: \"model_1\"\n",
            "_________________________________________________________________\n",
            " Layer (type)                Output Shape              Param #   \n",
            "=================================================================\n",
            " input_2 (InputLayer)        [(None, 224, 224, 3)]     0         \n",
            "                                                                 \n",
            " block1_conv1 (Conv2D)       (None, 224, 224, 64)      1792      \n",
            "                                                                 \n",
            " block1_conv2 (Conv2D)       (None, 224, 224, 64)      36928     \n",
            "                                                                 \n",
            " block1_pool (MaxPooling2D)  (None, 112, 112, 64)      0         \n",
            "                                                                 \n",
            " block2_conv1 (Conv2D)       (None, 112, 112, 128)     73856     \n",
            "                                                                 \n",
            " block2_conv2 (Conv2D)       (None, 112, 112, 128)     147584    \n",
            "                                                                 \n",
            " block2_pool (MaxPooling2D)  (None, 56, 56, 128)       0         \n",
            "                                                                 \n",
            " block3_conv1 (Conv2D)       (None, 56, 56, 256)       295168    \n",
            "                                                                 \n",
            " block3_conv2 (Conv2D)       (None, 56, 56, 256)       590080    \n",
            "                                                                 \n",
            " block3_conv3 (Conv2D)       (None, 56, 56, 256)       590080    \n",
            "                                                                 \n",
            " block3_pool (MaxPooling2D)  (None, 28, 28, 256)       0         \n",
            "                                                                 \n",
            " block4_conv1 (Conv2D)       (None, 28, 28, 512)       1180160   \n",
            "                                                                 \n",
            " block4_conv2 (Conv2D)       (None, 28, 28, 512)       2359808   \n",
            "                                                                 \n",
            " block4_conv3 (Conv2D)       (None, 28, 28, 512)       2359808   \n",
            "                                                                 \n",
            " block4_pool (MaxPooling2D)  (None, 14, 14, 512)       0         \n",
            "                                                                 \n",
            " block5_conv1 (Conv2D)       (None, 14, 14, 512)       2359808   \n",
            "                                                                 \n",
            " block5_conv2 (Conv2D)       (None, 14, 14, 512)       2359808   \n",
            "                                                                 \n",
            " block5_conv3 (Conv2D)       (None, 14, 14, 512)       2359808   \n",
            "                                                                 \n",
            " block5_pool (MaxPooling2D)  (None, 7, 7, 512)         0         \n",
            "                                                                 \n",
            " flatten_1 (Flatten)         (None, 25088)             0         \n",
            "                                                                 \n",
            " dense_1 (Dense)             (None, 3)                 75267     \n",
            "                                                                 \n",
            "=================================================================\n",
            "Total params: 14,789,955\n",
            "Trainable params: 75,267\n",
            "Non-trainable params: 14,714,688\n",
            "_________________________________________________________________\n"
          ]
        }
      ],
      "source": [
        "model1.summary()"
      ]
    },
    {
      "cell_type": "markdown",
      "metadata": {
        "id": "SN-n3NkCUtcu"
      },
      "source": [
        "**6. Configure The Learning Process**"
      ]
    },
    {
      "cell_type": "code",
      "execution_count": 18,
      "metadata": {
        "id": "tiMzJurLdoWC"
      },
      "outputs": [],
      "source": [
        "model.compile(loss='categorical_crossentropy', optimizer='adam',metrics=['acc'])\n",
        "model1.compile(loss='categorical_crossentropy', optimizer='adam',metrics=['acc'])"
      ]
    },
    {
      "cell_type": "markdown",
      "metadata": {
        "id": "h38cbHxfUxh-"
      },
      "source": [
        "**7. Train The Model-BODY**"
      ]
    },
    {
      "cell_type": "code",
      "execution_count": null,
      "metadata": {
        "colab": {
          "base_uri": "https://localhost:8080/"
        },
        "id": "JMdMsJQrdsLE",
        "outputId": "87951ee0-23de-461c-8cd1-730fcad0ffbc"
      },
      "outputs": [
        {
          "name": "stderr",
          "output_type": "stream",
          "text": [
            "/usr/local/lib/python3.7/dist-packages/ipykernel_launcher.py:6: UserWarning: `Model.fit_generator` is deprecated and will be removed in a future version. Please use `Model.fit`, which supports generators.\n",
            "  \n"
          ]
        },
        {
          "name": "stdout",
          "output_type": "stream",
          "text": [
            "Epoch 1/25\n",
            "98/98 [==============================] - 626s 6s/step - loss: 1.0484 - acc: 0.5996 - val_loss: 1.4090 - val_acc: 0.5614\n",
            "Epoch 2/25\n",
            "98/98 [==============================] - 624s 6s/step - loss: 0.6790 - acc: 0.7416 - val_loss: 1.3861 - val_acc: 0.5497\n",
            "Epoch 3/25\n",
            "98/98 [==============================] - 623s 6s/step - loss: 0.5305 - acc: 0.7988 - val_loss: 0.8859 - val_acc: 0.6784\n",
            "Epoch 4/25\n",
            "98/98 [==============================] - 621s 6s/step - loss: 0.3857 - acc: 0.8611 - val_loss: 1.0131 - val_acc: 0.6491\n",
            "Epoch 5/25\n",
            "98/98 [==============================] - 600s 6s/step - loss: 0.2770 - acc: 0.8948 - val_loss: 1.0844 - val_acc: 0.6608\n",
            "Epoch 6/25\n",
            "98/98 [==============================] - 599s 6s/step - loss: 0.2132 - acc: 0.9193 - val_loss: 1.1192 - val_acc: 0.6316\n",
            "Epoch 7/25\n",
            "98/98 [==============================] - 595s 6s/step - loss: 0.1484 - acc: 0.9540 - val_loss: 1.2090 - val_acc: 0.6199\n",
            "Epoch 8/25\n",
            "98/98 [==============================] - 593s 6s/step - loss: 0.1413 - acc: 0.9663 - val_loss: 0.9746 - val_acc: 0.6608\n",
            "Epoch 9/25\n",
            "98/98 [==============================] - 593s 6s/step - loss: 0.1154 - acc: 0.9694 - val_loss: 1.0275 - val_acc: 0.6842\n",
            "Epoch 10/25\n",
            "98/98 [==============================] - 594s 6s/step - loss: 0.1406 - acc: 0.9540 - val_loss: 1.0258 - val_acc: 0.6725\n",
            "Epoch 11/25\n",
            "98/98 [==============================] - 594s 6s/step - loss: 0.1113 - acc: 0.9683 - val_loss: 1.2162 - val_acc: 0.6550\n",
            "Epoch 12/25\n",
            "98/98 [==============================] - 595s 6s/step - loss: 0.0874 - acc: 0.9755 - val_loss: 1.3289 - val_acc: 0.6433\n",
            "Epoch 13/25\n",
            "98/98 [==============================] - 596s 6s/step - loss: 0.1259 - acc: 0.9714 - val_loss: 1.7856 - val_acc: 0.5205\n",
            "Epoch 14/25\n",
            "98/98 [==============================] - 602s 6s/step - loss: 0.1230 - acc: 0.9612 - val_loss: 1.1096 - val_acc: 0.6842\n",
            "Epoch 15/25\n",
            "98/98 [==============================] - 601s 6s/step - loss: 0.0802 - acc: 0.9785 - val_loss: 1.1174 - val_acc: 0.6901\n",
            "Epoch 16/25\n",
            "98/98 [==============================] - 595s 6s/step - loss: 0.0638 - acc: 0.9867 - val_loss: 1.4178 - val_acc: 0.6550\n",
            "Epoch 17/25\n",
            "98/98 [==============================] - 595s 6s/step - loss: 0.0731 - acc: 0.9816 - val_loss: 1.1853 - val_acc: 0.6608\n",
            "Epoch 18/25\n",
            "98/98 [==============================] - 594s 6s/step - loss: 0.0598 - acc: 0.9877 - val_loss: 1.3720 - val_acc: 0.6374\n",
            "Epoch 19/25\n",
            "98/98 [==============================] - 595s 6s/step - loss: 0.0689 - acc: 0.9806 - val_loss: 1.2163 - val_acc: 0.6608\n",
            "Epoch 20/25\n",
            "98/98 [==============================] - 595s 6s/step - loss: 0.0643 - acc: 0.9857 - val_loss: 1.2023 - val_acc: 0.6959\n",
            "Epoch 21/25\n",
            "98/98 [==============================] - 595s 6s/step - loss: 0.0932 - acc: 0.9745 - val_loss: 1.2244 - val_acc: 0.6608\n",
            "Epoch 22/25\n",
            "98/98 [==============================] - 595s 6s/step - loss: 0.0565 - acc: 0.9847 - val_loss: 1.2638 - val_acc: 0.6901\n",
            "Epoch 23/25\n",
            "98/98 [==============================] - 595s 6s/step - loss: 0.0525 - acc: 0.9847 - val_loss: 1.2751 - val_acc: 0.6725\n",
            "Epoch 24/25\n",
            "98/98 [==============================] - 595s 6s/step - loss: 0.0704 - acc: 0.9847 - val_loss: 1.2162 - val_acc: 0.6725\n",
            "Epoch 25/25\n",
            "98/98 [==============================] - 595s 6s/step - loss: 0.0483 - acc: 0.9928 - val_loss: 1.2507 - val_acc: 0.6959\n"
          ]
        }
      ],
      "source": [
        "r = model.fit_generator(\n",
        "  training_set,\n",
        "  validation_data=test_set,\n",
        "  epochs=25,\n",
        "  steps_per_epoch=len(training_set),\n",
        "  validation_steps=len(test_set)\n",
        ")"
      ]
    },
    {
      "cell_type": "markdown",
      "metadata": {
        "id": "VdeiUi7KU2xF"
      },
      "source": [
        "**8. Save The Model - BODY**"
      ]
    },
    {
      "cell_type": "code",
      "execution_count": 19,
      "metadata": {
        "id": "Db1mbKMvenhv"
      },
      "outputs": [],
      "source": [
        "model.save('/content/drive/MyDrive/IBM FILES/IBM/body.h5')"
      ]
    },
    {
      "cell_type": "markdown",
      "metadata": {
        "id": "5cOaeVF7U7JO"
      },
      "source": [
        "**9. Test The Model-BODY**"
      ]
    },
    {
      "cell_type": "code",
      "execution_count": 20,
      "metadata": {
        "id": "owI46Pr1enpW"
      },
      "outputs": [],
      "source": [
        "from tensorflow.keras.models import  load_model\n",
        "import cv2\n",
        "from skimage.transform import resize"
      ]
    },
    {
      "cell_type": "code",
      "execution_count": 21,
      "metadata": {
        "id": "h1UPdArQeyrv"
      },
      "outputs": [],
      "source": [
        "body_model=load_model('/content/drive/MyDrive/IBM FILES/IBM/body.h5')"
      ]
    },
    {
      "cell_type": "code",
      "execution_count": 22,
      "metadata": {
        "id": "2l_rWzjZeyze"
      },
      "outputs": [],
      "source": [
        "def detect(frame):\n",
        "    img=cv2.resize(frame,(224,224))\n",
        "    img=cv2.cvtColor(img,cv2.COLOR_BGR2RGB)\n",
        "    if(np.max(img)>1):\n",
        "        img=img/255.0\n",
        "    img=np.array([img])\n",
        "    prediction =body_model.predict(img)\n",
        "    #print(prediction)\n",
        "    label=[\"front\",\"rear\",\"side\"]\n",
        "    preds=label[np.argmax(prediction)]\n",
        "    return preds"
      ]
    },
    {
      "cell_type": "code",
      "execution_count": 23,
      "metadata": {
        "colab": {
          "base_uri": "https://localhost:8080/"
        },
        "id": "RbdADw6Qey2K",
        "outputId": "ca44bf51-110d-442c-8b5c-7543be07dde7"
      },
      "outputs": [
        {
          "output_type": "stream",
          "name": "stdout",
          "text": [
            "1/1 [==============================] - 1s 1s/step\n",
            "side\n"
          ]
        }
      ],
      "source": [
        "import numpy as np\n",
        "\n",
        "data=\"/content/drive/MyDrive/IBM FILES/IBM/Dataset/body-20221114T034906Z-001/body/training/01-rear/0002.JPEG\"\n",
        "image=cv2.imread(data)\n",
        "print(detect(image))"
      ]
    },
    {
      "cell_type": "markdown",
      "metadata": {
        "id": "T8Z6NRCFVLuP"
      },
      "source": [
        "**7. Train The Model-LEVEL**\n"
      ]
    },
    {
      "cell_type": "markdown",
      "metadata": {
        "id": "SowRrbbaVA09"
      },
      "source": [
        "**8. Save The Model -LEVEL**"
      ]
    },
    {
      "cell_type": "code",
      "execution_count": null,
      "metadata": {
        "colab": {
          "base_uri": "https://localhost:8080/"
        },
        "id": "0MelI_gkfIJR",
        "outputId": "1bc8511a-d80e-438c-9a88-66b956ac63ab"
      },
      "outputs": [
        {
          "metadata": {
            "tags": null
          },
          "name": "stderr",
          "output_type": "stream",
          "text": [
            "/usr/local/lib/python3.7/dist-packages/ipykernel_launcher.py:6: UserWarning: `Model.fit_generator` is deprecated and will be removed in a future version. Please use `Model.fit`, which supports generators.\n",
            "  \n"
          ]
        },
        {
          "output_type": "stream",
          "name": "stdout",
          "text": [
            "Epoch 1/25\n",
            "98/98 [==============================] - 1025s 10s/step - loss: 1.2648 - acc: 0.5710 - val_loss: 0.7160 - val_acc: 0.6956\n",
            "Epoch 2/25\n",
            "98/98 [==============================] - 1021s 10s/step - loss: 0.7221 - acc: 0.7150 - val_loss: 0.3633 - val_acc: 0.8641\n",
            "Epoch 3/25\n",
            "98/98 [==============================] - 999s 10s/step - loss: 0.6190 - acc: 0.7814 - val_loss: 0.7729 - val_acc: 0.6987\n",
            "Epoch 4/25\n",
            "98/98 [==============================] - 1008s 10s/step - loss: 0.5037 - acc: 0.8182 - val_loss: 0.6626 - val_acc: 0.7324\n",
            "Epoch 5/25\n",
            "98/98 [==============================] - 1022s 10s/step - loss: 0.3513 - acc: 0.8652 - val_loss: 0.1570 - val_acc: 0.9438\n",
            "Epoch 6/25\n",
            "98/98 [==============================] - 1008s 10s/step - loss: 0.2419 - acc: 0.9132 - val_loss: 0.1652 - val_acc: 0.9489\n",
            "Epoch 7/25\n",
            "98/98 [==============================] - 1006s 10s/step - loss: 0.1893 - acc: 0.9356 - val_loss: 0.2061 - val_acc: 0.9244\n",
            "Epoch 8/25\n",
            "98/98 [==============================] - 1005s 10s/step - loss: 0.2180 - acc: 0.9203 - val_loss: 0.1028 - val_acc: 0.9663\n",
            "Epoch 9/25\n",
            "98/98 [==============================] - 1013s 10s/step - loss: 0.1401 - acc: 0.9551 - val_loss: 0.0782 - val_acc: 0.9796\n",
            "Epoch 10/25\n",
            "98/98 [==============================] - 1006s 10s/step - loss: 0.1041 - acc: 0.9704 - val_loss: 0.2747 - val_acc: 0.8846\n",
            "Epoch 11/25\n",
            "98/98 [==============================] - 1002s 10s/step - loss: 0.1125 - acc: 0.9622 - val_loss: 0.0409 - val_acc: 0.9918\n",
            "Epoch 12/25\n",
            "98/98 [==============================] - 1006s 10s/step - loss: 0.0662 - acc: 0.9837 - val_loss: 0.0423 - val_acc: 0.9908\n",
            "Epoch 13/25\n",
            "98/98 [==============================] - 1004s 10s/step - loss: 0.0460 - acc: 0.9959 - val_loss: 0.0344 - val_acc: 0.9949\n",
            "Epoch 14/25\n",
            "98/98 [==============================] - 1002s 10s/step - loss: 0.0542 - acc: 0.9918 - val_loss: 0.0501 - val_acc: 0.9918\n",
            "Epoch 15/25\n",
            "98/98 [==============================] - 1003s 10s/step - loss: 0.0496 - acc: 0.9898 - val_loss: 0.0300 - val_acc: 0.9959\n",
            "Epoch 16/25\n",
            "98/98 [==============================] - 1002s 10s/step - loss: 0.0349 - acc: 0.9959 - val_loss: 0.0265 - val_acc: 0.9939\n",
            "Epoch 17/25\n",
            "98/98 [==============================] - 1002s 10s/step - loss: 0.0502 - acc: 0.9908 - val_loss: 0.0465 - val_acc: 0.9939\n",
            "Epoch 18/25\n",
            "98/98 [==============================] - 999s 10s/step - loss: 0.0342 - acc: 0.9959 - val_loss: 0.0127 - val_acc: 1.0000\n",
            "Epoch 19/25\n",
            "98/98 [==============================] - 1004s 10s/step - loss: 0.0307 - acc: 0.9949 - val_loss: 0.0205 - val_acc: 0.9959\n",
            "Epoch 20/25\n",
            "98/98 [==============================] - 1026s 11s/step - loss: 0.0369 - acc: 0.9939 - val_loss: 0.0310 - val_acc: 0.9949\n",
            "Epoch 21/25\n",
            "98/98 [==============================] - 1010s 10s/step - loss: 0.0448 - acc: 0.9939 - val_loss: 0.0201 - val_acc: 0.9959\n",
            "Epoch 22/25\n",
            "98/98 [==============================] - 1008s 10s/step - loss: 0.0717 - acc: 0.9785 - val_loss: 0.0119 - val_acc: 1.0000\n",
            "Epoch 23/25\n",
            "98/98 [==============================] - 1006s 10s/step - loss: 0.0802 - acc: 0.9683 - val_loss: 0.0269 - val_acc: 0.9928\n",
            "Epoch 24/25\n",
            "98/98 [==============================] - 1024s 11s/step - loss: 0.0600 - acc: 0.9816 - val_loss: 0.0193 - val_acc: 0.9949\n",
            "Epoch 25/25\n",
            "23/98 [======>.......................] - ETA: 6:37 - loss: 0.0235 - acc: 1.0000"
          ]
        }
      ],
      "source": [
        "import sys\n",
        "r1= model.fit_generator(training_set1,\n",
        "                        validation_data=test_set1,\n",
        "                        epochs=25,\n",
        "                        steps_per_epoch=len(training_set1),\n",
        "                        validation_steps=len(test_set1))\n"
      ]
    },
    {
      "cell_type": "code",
      "source": [
        "model.save('/content/drive/MyDrive/IBM FILES/IBM/level.h5')"
      ],
      "metadata": {
        "id": "pNK6b2lHlwSB"
      },
      "execution_count": 25,
      "outputs": []
    },
    {
      "cell_type": "markdown",
      "metadata": {
        "id": "1QJ4F8GIVjxO"
      },
      "source": [
        "**9. Test The Model-LEVEL**"
      ]
    },
    {
      "cell_type": "code",
      "execution_count": 28,
      "metadata": {
        "id": "dIGIzIPafIMa"
      },
      "outputs": [],
      "source": [
        "level_model = load_model('/content/drive/MyDrive/IBM FILES/IBM/level.h5')\n",
        "\n",
        "\n",
        "def detect1(frame):\n",
        "    img = cv2.resize(frame, (224, 224))\n",
        "    img = cv2.cvtColor(img, cv2.COLOR_BGR2RGB)\n",
        "    if(np.max(img) > 1):\n",
        "        img = img/255.0\n",
        "    img = np.array([img])\n",
        "    prediction = level_model.predict(img)\n",
        "    print(prediction)\n",
        "    label = [\"minor\", \"moderate\", \"severe\"]\n",
        "    preds = label[np.argmax(prediction)]\n",
        "    return preds"
      ]
    },
    {
      "cell_type": "code",
      "execution_count": 29,
      "metadata": {
        "id": "WlzB-sSnfIO8",
        "colab": {
          "base_uri": "https://localhost:8080/"
        },
        "outputId": "9cf4cbd8-6494-4708-d8dd-832ef88564a3"
      },
      "outputs": [
        {
          "output_type": "stream",
          "name": "stdout",
          "text": [
            "1/1 [==============================] - 1s 699ms/step\n",
            "[[0.29040253 0.10168374 0.60791373]]\n",
            "severe\n"
          ]
        }
      ],
      "source": [
        "data = \"/content/drive/MyDrive/IBM FILES/IBM/Dataset/level-20221114T034101Z-001/level/training/02-moderate/0004.JPEG\"\n",
        "image = cv2.imread(data)\n",
        "print(detect1(image))"
      ]
    }
  ],
  "metadata": {
    "colab": {
      "collapsed_sections": [],
      "provenance": []
    },
    "kernelspec": {
      "display_name": "Python 3",
      "name": "python3"
    },
    "language_info": {
      "name": "python"
    }
  },
  "nbformat": 4,
  "nbformat_minor": 0
}