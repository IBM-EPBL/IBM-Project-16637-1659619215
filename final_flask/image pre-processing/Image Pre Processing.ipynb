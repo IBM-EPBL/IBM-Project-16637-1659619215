{
  "cells": [
    {
      "cell_type": "markdown",
      "metadata": {
        "id": "NAMR3yg-x7-G"
      },
      "source": [
        "Team ID: PNT2022TMID29716"
      ]
    },
    {
      "cell_type": "markdown",
      "metadata": {
        "id": "KBM9L2Ykyghv"
      },
      "source": [
        "Project: Intelligent Vehicle Damage Assessment & Cost      Estimator for Insurance Companies"
      ]
    },
    {
      "cell_type": "markdown",
      "metadata": {
        "id": "1DfOg_1OyknN"
      },
      "source": [
        "Image Pre Processing"
      ]
    },
    {
      "cell_type": "code",
      "execution_count": 1,
      "metadata": {
        "id": "SLQgojHObffX"
      },
      "outputs": [],
      "source": [
        "from tensorflow.keras.preprocessing.image import ImageDataGenerator"
      ]
    },
    {
      "cell_type": "code",
      "execution_count": 2,
      "metadata": {
        "id": "mb5zjc76bpyW"
      },
      "outputs": [],
      "source": [
        "#setting parameter for image data augmentation to the training data.\n",
        "train_datagen = ImageDataGenerator(rescale=1./ 255,shear_range=0.1,zoom_range=0.1,horizontal_flip=True)"
      ]
    },
    {
      "cell_type": "code",
      "execution_count": 3,
      "metadata": {
        "id": "0IRP0XHkbtYF"
      },
      "outputs": [],
      "source": [
        "#image data augmentation to the testing data.\n",
        "test_datagen = ImageDataGenerator( rescale = 1.1255)"
      ]
    },
    {
      "cell_type": "code",
      "execution_count": 5,
      "metadata": {
        "colab": {
          "base_uri": "https://localhost:8080/"
        },
        "id": "KWWjjtKBb_PX",
        "outputId": "283df0cd-6614-44e7-ad18-be4319843249"
      },
      "outputs": [
        {
          "name": "stdout",
          "output_type": "stream",
          "text": [
            "Found 979 images belonging to 3 classes.\n",
            "Found 171 images belonging to 3 classes.\n"
          ]
        }
      ],
      "source": [
        "trainpath = \"/content/drive/MyDrive/ibm/body/training\"\n",
        "testpath = \"/content/drive/MyDrive/ibm/body/validation\"\n",
        "training_set = train_datagen.flow_from_directory(trainpath,\n",
        "                                                 target_size = (224, 224),\n",
        "                                                 batch_size = 10,\n",
        "                                                 class_mode = 'categorical')\n",
        "\n",
        "test_set = test_datagen.flow_from_directory(testpath,\n",
        "                                            target_size = (224, 224),\n",
        "                                            batch_size = 10,\n",
        "                                            class_mode ='categorical' )"
      ]
    },
    {
      "cell_type": "code",
      "execution_count": 4,
      "metadata": {
        "colab": {
          "base_uri": "https://localhost:8080/"
        },
        "id": "fZwDR1VwMsh9",
        "outputId": "05265d2c-0dfe-44ef-9a3a-a68321eb951f"
      },
      "outputs": [
        {
          "name": "stdout",
          "output_type": "stream",
          "text": [
            "Mounted at /content/drive\n"
          ]
        }
      ],
      "source": [
        "from google.colab import drive\n",
        "drive.mount('/content/drive')"
      ]
    },
    {
      "cell_type": "code",
      "execution_count": 6,
      "metadata": {
        "colab": {
          "base_uri": "https://localhost:8080/"
        },
        "id": "qBfC-W3_eiTC",
        "outputId": "18d79faf-586f-43da-e2de-fa208b86b15f"
      },
      "outputs": [
        {
          "name": "stdout",
          "output_type": "stream",
          "text": [
            "Found 979 images belonging to 3 classes.\n",
            "Found 979 images belonging to 3 classes.\n"
          ]
        }
      ],
      "source": [
        "trainpath = \"/content/drive/MyDrive/ibm/level/training\";\n",
        "testpath = \"/content/drive/MyDrive/ibm/level/validation\"\n",
        "training_set = train_datagen.flow_from_directory(trainpath,\n",
        "                                                 target_size = (224, 224),\n",
        "                                                 batch_size = 10,\n",
        "                                                 class_mode = 'categorical')\n",
        "\n",
        "test_set = test_datagen.flow_from_directory(trainpath,\n",
        "                                            target_size = (224, 224),\n",
        "                                            batch_size = 10,\n",
        "                                            class_mode ='categorical' )"
      ]
    }
  ],
  "metadata": {
    "colab": {
      "collapsed_sections": [],
      "provenance": []
    },
    "kernelspec": {
      "display_name": "Python 3.8.9 64-bit",
      "language": "python",
      "name": "python3"
    },
    "language_info": {
      "name": "python",
      "version": "3.8.9"
    },
    "vscode": {
      "interpreter": {
        "hash": "f68ac5e8b55b3b8771b06e7960a2e09006878ac0ecdc9e9a11402013f9799685"
      }
    }
  },
  "nbformat": 4,
  "nbformat_minor": 0
}
